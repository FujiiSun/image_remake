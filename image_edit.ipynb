{
 "cells": [
  {
   "cell_type": "code",
   "execution_count": 69,
   "id": "incorporated-think",
   "metadata": {},
   "outputs": [
    {
     "name": "stdout",
     "output_type": "stream",
     "text": [
      "136\n"
     ]
    },
    {
     "data": {
      "text/plain": [
       "'\\nUnidentifiedImageError: cannot identify image file \\'/.DS_Store\\'\\nこのようなエラーメッセージが表示された場合は\\nターミナルで以下のコマンドを実行しよう\\nsudo find ./ -name \".DS_Store\" -depth -exec rm {} \\\\;\\n'"
      ]
     },
     "execution_count": 69,
     "metadata": {},
     "output_type": "execute_result"
    }
   ],
   "source": [
    "import numpy as np\n",
    "import cv2\n",
    "import os\n",
    "import matplotlib.pyplot as plt\n",
    "from PIL import Image\n",
    "from pathlib import Path\n",
    "\n",
    "\n",
    "dir_name = \"lavender/whole\"#入手先フォルダ\n",
    "new_dir_name = \"laven_dataset/whole\"#保存先フォルダ\n",
    "\n",
    "#整合性を取る必要あり\n",
    "(img_width_ratio,img_height_ratio) = (1,1)#画像の比率\n",
    "(size_width,size_height) = (608,608)#画像のサイズ\n",
    "\n",
    "i=1\n",
    "\n",
    "\n",
    "#実装\n",
    "imagefiles = os.listdir(dir_name)\n",
    "for filename in imagefiles:\n",
    "    filepath = os.path.join(dir_name, filename)\n",
    "    if os.path.isfile(filepath):\n",
    "        \n",
    "        \n",
    "        img = Image.open(filepath)\n",
    "         \n",
    "        center_x = int(img.width / 2)#中心のx座標\n",
    "        center_y = int(img.height / 2)#中心のy座標\n",
    "        \n",
    "        size = img.height/img_width_ratio\n",
    "        img_size_width = size*img_width_ratio#画像の横幅\n",
    "        img_size_height = size*img_height_ratio#画像の縦幅\n",
    "        \n",
    "        #トリミング   \n",
    "        #img = img.crop((center_x - img_size_width / 2, center_y - img_size_height / 2, center_x +img_size_width / 2, center_y + img_size_height / 2))\n",
    "        \n",
    "        \n",
    "        #リサイズ\n",
    "        #img = img.resize((size_width,size_height))\n",
    "    \n",
    "    \n",
    "    img.save(os.path.join(new_dir_name,(\"lavender\" + (str(i).zfill(3)) +\".jpg\")))\n",
    "    i += 1\n",
    "print(i-1)\n",
    "\n",
    "\"\"\"\n",
    "UnidentifiedImageError: cannot identify image file '/.DS_Store'\n",
    "このようなエラーメッセージが表示された場合は\n",
    "ターミナルで以下のコマンドを実行しよう\n",
    "sudo find ./ -name \".DS_Store\" -depth -exec rm {} \\;\n",
    "\"\"\"\n",
    "\n"
   ]
  },
  {
   "cell_type": "code",
   "execution_count": null,
   "id": "piano-passage",
   "metadata": {},
   "outputs": [],
   "source": []
  }
 ],
 "metadata": {
  "kernelspec": {
   "display_name": "Python 3",
   "language": "python",
   "name": "python3"
  },
  "language_info": {
   "codemirror_mode": {
    "name": "ipython",
    "version": 3
   },
   "file_extension": ".py",
   "mimetype": "text/x-python",
   "name": "python",
   "nbconvert_exporter": "python",
   "pygments_lexer": "ipython3",
   "version": "3.7.10"
  }
 },
 "nbformat": 4,
 "nbformat_minor": 5
}
